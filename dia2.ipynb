{
 "cells": [
  {
   "cell_type": "markdown",
   "id": "d619b18d",
   "metadata": {},
   "source": [
    "## Challenge VI\n",
    "- Solicitar al usuario que ingrese una frase.\n",
    "- Imprimir un mensaje cada vez que se encuentre una letra \"o\""
   ]
  },
  {
   "cell_type": "code",
   "execution_count": null,
   "id": "b8cd4e93",
   "metadata": {},
   "outputs": [
    {
     "name": "stdout",
     "output_type": "stream",
     "text": [
      "tu frase 'Hola' contiene la letra o\n"
     ]
    }
   ],
   "source": [
    "frase_usuario = input(\"Ingrese una frase\") #El usuario ingresa la frase\n",
    "for letra in (frase_usuario): #Iteración por cada letra\n",
    "    if letra == \"o\": #Comparacion \n",
    "        print(f\"tu frase '{frase_usuario}' contiene la letra o\") #Se imprime el mensaje deseado"
   ]
  },
  {
   "cell_type": "markdown",
   "id": "28169fa6",
   "metadata": {},
   "source": [
    "# Challenge VI\n",
    "Recorrer los elementos de una lista de marcas\n",
    "imprimir *_solamente_* si la marca tiene 6 letras o mas\n",
    "\n",
    "- Crea una lista de marcas\n",
    "- recorrer la lista de marcas\n",
    "- crear una condicion si la palabra tiene mas de 6 caracteres len()\n",
    "- imprimir los que tienen 6 o mas letras "
   ]
  },
  {
   "cell_type": "code",
   "execution_count": null,
   "id": "a122dc02",
   "metadata": {},
   "outputs": [
    {
     "name": "stdout",
     "output_type": "stream",
     "text": [
      "marca con mas de 6 letras: Google\n",
      "marca con mas de 6 letras: Amazon\n",
      "marca con mas de 6 letras: Microsoft\n"
     ]
    }
   ],
   "source": [
    "Lista_Marcas = [\"Google\", \"Amazon\", \"Apple\", \"Microsoft\", \"Cisco\", \"Asus\", \"Intel\"]\n",
    "for marca in (Lista_Marcas):\n",
    "    if len(marca) >= 6: # Se utiliza len para contar los caracteres (in es para revisar contenido)\n",
    "        print(f\"marca con mas de 6 letras: {marca}\")\n",
    "\n",
    "\n"
   ]
  },
  {
   "cell_type": "markdown",
   "id": "5d173b79",
   "metadata": {},
   "source": [
    "## Challenge V\n",
    "Escribir un programa que itere en un rango de 10 veces\n",
    "Por cada iteracion multiplicar el iterador por dos e imprimir el resultado"
   ]
  },
  {
   "cell_type": "code",
   "execution_count": 16,
   "id": "74760214",
   "metadata": {},
   "outputs": [
    {
     "name": "stdout",
     "output_type": "stream",
     "text": [
      "2\n",
      "4\n",
      "6\n",
      "8\n",
      "10\n",
      "12\n",
      "14\n",
      "16\n",
      "18\n",
      "20\n"
     ]
    }
   ],
   "source": [
    "for numero in range (1, 11):\n",
    "    print(numero*2)"
   ]
  },
  {
   "cell_type": "markdown",
   "id": "07c18f9e",
   "metadata": {},
   "source": [
    "### Challenge IV\n",
    "Crear una lista de 5 elementos. Luego, seguir los siguientes pasos:\n",
    "- Agregar un elemento al final de la lista\n",
    "- Modificar el segundo elemento\n",
    "- Eliminar el tercer elemento"
   ]
  },
  {
   "cell_type": "code",
   "execution_count": 17,
   "id": "ffcd72d9",
   "metadata": {},
   "outputs": [
    {
     "name": "stdout",
     "output_type": "stream",
     "text": [
      "['tomate', 'cebolla', 'locote', 'ajo', 'zapallo']\n",
      "['tomate', 'cebolla', 'locote', 'ajo', 'zapallo', 'sal']\n",
      "['tomate', 'repollo', 'locote', 'ajo', 'zapallo', 'sal']\n",
      "['tomate', 'repollo', 'ajo', 'zapallo', 'sal']\n"
     ]
    }
   ],
   "source": [
    "# Crear una lista con 5 elementos\n",
    "lista_super = [\"tomate\", \"cebolla\", \"locote\", \"ajo\", \"zapallo\"]\n",
    "print(lista_super) #Visualizar la lista creada\n",
    "\n",
    "# Añadir al final de la lista\n",
    "lista_super.append(\"sal\")\n",
    "print(lista_super)\n",
    "\n",
    "# Modificar el segundo elemento\n",
    "lista_super[1] = \"repollo\"\n",
    "print(lista_super)\n",
    "\n",
    "# Eliminar el tercer elemento\n",
    "lista_super.pop(2)\n",
    "print(lista_super)"
   ]
  },
  {
   "cell_type": "markdown",
   "id": "06662f5c",
   "metadata": {},
   "source": [
    "### Challenge III\n",
    "Escribir un programa que almacene una contraseña en una variable\n",
    "pregunte al usuario por la contraseña hasta que introduzca la contraseña correcta\n",
    "cuando el usuario ingrese la contraseña correcta, imprimir un mensaje secreto"
   ]
  },
  {
   "cell_type": "code",
   "execution_count": 18,
   "id": "7fb0c289",
   "metadata": {},
   "outputs": [
    {
     "name": "stdout",
     "output_type": "stream",
     "text": [
      "La contraseña es incorrecta, vuelva a introducirla\n",
      "La contraseña es incorrecta, vuelva a introducirla\n",
      "La contraseña es incorrecta, vuelva a introducirla\n",
      "La contraseña es incorrecta, vuelva a introducirla\n",
      "La contraseña es incorrecta, vuelva a introducirla\n",
      "La contraseña es incorrecta, vuelva a introducirla\n",
      "La contraseña es incorrecta, vuelva a introducirla\n",
      "La contraseña es incorrecta, vuelva a introducirla\n",
      "La contraseña es incorrecta, vuelva a introducirla\n",
      "La contraseña es incorrecta, vuelva a introducirla\n",
      "La contraseña es incorrecta, vuelva a introducirla\n",
      "La contraseña es incorrecta, vuelva a introducirla\n"
     ]
    },
    {
     "ename": "KeyboardInterrupt",
     "evalue": "Interrupted by user",
     "output_type": "error",
     "traceback": [
      "\u001b[31m---------------------------------------------------------------------------\u001b[39m",
      "\u001b[31mKeyboardInterrupt\u001b[39m                         Traceback (most recent call last)",
      "\u001b[36mCell\u001b[39m\u001b[36m \u001b[39m\u001b[32mIn[18]\u001b[39m\u001b[32m, line 6\u001b[39m\n\u001b[32m      4\u001b[39m \u001b[38;5;28;01mwhile\u001b[39;00m contraseña_oculta != contraseña_presunta: \u001b[38;5;66;03m#compara la contraseña correcta con la incorrecta \u001b[39;00m\n\u001b[32m      5\u001b[39m     \u001b[38;5;28mprint\u001b[39m (\u001b[33m\"\u001b[39m\u001b[33mLa contraseña es incorrecta, vuelva a introducirla\u001b[39m\u001b[33m\"\u001b[39m)\n\u001b[32m----> \u001b[39m\u001b[32m6\u001b[39m     contraseña_presunta = \u001b[38;5;28;43minput\u001b[39;49m\u001b[43m \u001b[49m\u001b[43m(\u001b[49m\u001b[33;43m\"\u001b[39;49m\u001b[33;43mIngrese la contraseña nuevamente\u001b[39;49m\u001b[33;43m\"\u001b[39;49m\u001b[43m)\u001b[49m\n\u001b[32m      7\u001b[39m     \u001b[38;5;28;01mif\u001b[39;00m contraseña_presunta == contraseña_oculta:\n\u001b[32m      8\u001b[39m         \u001b[38;5;28mprint\u001b[39m (\u001b[33m\"\u001b[39m\u001b[33mEl mensaje oculto es: HORA DEL CAFE \u001b[39m\u001b[33m\"\u001b[39m)\n",
      "\u001b[36mFile \u001b[39m\u001b[32m~\\AppData\\Roaming\\Python\\Python313\\site-packages\\ipykernel\\kernelbase.py:1282\u001b[39m, in \u001b[36mKernel.raw_input\u001b[39m\u001b[34m(self, prompt)\u001b[39m\n\u001b[32m   1280\u001b[39m     msg = \u001b[33m\"\u001b[39m\u001b[33mraw_input was called, but this frontend does not support input requests.\u001b[39m\u001b[33m\"\u001b[39m\n\u001b[32m   1281\u001b[39m     \u001b[38;5;28;01mraise\u001b[39;00m StdinNotImplementedError(msg)\n\u001b[32m-> \u001b[39m\u001b[32m1282\u001b[39m \u001b[38;5;28;01mreturn\u001b[39;00m \u001b[38;5;28;43mself\u001b[39;49m\u001b[43m.\u001b[49m\u001b[43m_input_request\u001b[49m\u001b[43m(\u001b[49m\n\u001b[32m   1283\u001b[39m \u001b[43m    \u001b[49m\u001b[38;5;28;43mstr\u001b[39;49m\u001b[43m(\u001b[49m\u001b[43mprompt\u001b[49m\u001b[43m)\u001b[49m\u001b[43m,\u001b[49m\n\u001b[32m   1284\u001b[39m \u001b[43m    \u001b[49m\u001b[38;5;28;43mself\u001b[39;49m\u001b[43m.\u001b[49m\u001b[43m_parent_ident\u001b[49m\u001b[43m[\u001b[49m\u001b[33;43m\"\u001b[39;49m\u001b[33;43mshell\u001b[39;49m\u001b[33;43m\"\u001b[39;49m\u001b[43m]\u001b[49m\u001b[43m,\u001b[49m\n\u001b[32m   1285\u001b[39m \u001b[43m    \u001b[49m\u001b[38;5;28;43mself\u001b[39;49m\u001b[43m.\u001b[49m\u001b[43mget_parent\u001b[49m\u001b[43m(\u001b[49m\u001b[33;43m\"\u001b[39;49m\u001b[33;43mshell\u001b[39;49m\u001b[33;43m\"\u001b[39;49m\u001b[43m)\u001b[49m\u001b[43m,\u001b[49m\n\u001b[32m   1286\u001b[39m \u001b[43m    \u001b[49m\u001b[43mpassword\u001b[49m\u001b[43m=\u001b[49m\u001b[38;5;28;43;01mFalse\u001b[39;49;00m\u001b[43m,\u001b[49m\n\u001b[32m   1287\u001b[39m \u001b[43m\u001b[49m\u001b[43m)\u001b[49m\n",
      "\u001b[36mFile \u001b[39m\u001b[32m~\\AppData\\Roaming\\Python\\Python313\\site-packages\\ipykernel\\kernelbase.py:1325\u001b[39m, in \u001b[36mKernel._input_request\u001b[39m\u001b[34m(self, prompt, ident, parent, password)\u001b[39m\n\u001b[32m   1322\u001b[39m \u001b[38;5;28;01mexcept\u001b[39;00m \u001b[38;5;167;01mKeyboardInterrupt\u001b[39;00m:\n\u001b[32m   1323\u001b[39m     \u001b[38;5;66;03m# re-raise KeyboardInterrupt, to truncate traceback\u001b[39;00m\n\u001b[32m   1324\u001b[39m     msg = \u001b[33m\"\u001b[39m\u001b[33mInterrupted by user\u001b[39m\u001b[33m\"\u001b[39m\n\u001b[32m-> \u001b[39m\u001b[32m1325\u001b[39m     \u001b[38;5;28;01mraise\u001b[39;00m \u001b[38;5;167;01mKeyboardInterrupt\u001b[39;00m(msg) \u001b[38;5;28;01mfrom\u001b[39;00m\u001b[38;5;250m \u001b[39m\u001b[38;5;28;01mNone\u001b[39;00m\n\u001b[32m   1326\u001b[39m \u001b[38;5;28;01mexcept\u001b[39;00m \u001b[38;5;167;01mException\u001b[39;00m:\n\u001b[32m   1327\u001b[39m     \u001b[38;5;28mself\u001b[39m.log.warning(\u001b[33m\"\u001b[39m\u001b[33mInvalid Message:\u001b[39m\u001b[33m\"\u001b[39m, exc_info=\u001b[38;5;28;01mTrue\u001b[39;00m)\n",
      "\u001b[31mKeyboardInterrupt\u001b[39m: Interrupted by user"
     ]
    }
   ],
   "source": [
    "contraseña_oculta = \"password\"\n",
    "contraseña_presunta = input (\"Ingrese la contraseña:\")\n",
    "\n",
    "while contraseña_oculta != contraseña_presunta: #compara la contraseña correcta con la incorrecta \n",
    "    print (\"La contraseña es incorrecta, vuelva a introducirla\")\n",
    "    contraseña_presunta = input (\"Ingrese la contraseña nuevamente\")\n",
    "    if contraseña_presunta == contraseña_oculta:\n",
    "        print (\"El mensaje oculto es: HORA DEL CAFE \")\n",
    "        break"
   ]
  },
  {
   "cell_type": "code",
   "execution_count": null,
   "id": "c866a5cd",
   "metadata": {},
   "outputs": [
    {
     "name": "stdout",
     "output_type": "stream",
     "text": [
      "Incorrecto\n"
     ]
    }
   ],
   "source": [
    "PIN = 5006 #Almacenar la contraseña en una variable\n",
    "numero_ingresado = int(input('Introduce el PIN')) #Preguntar al usuario por la contraseña\n",
    "\n",
    "while numero_ingresado != PIN: #Si la contraseña es incorrecta, se muestra \"incorrecto\"\n",
    "    print('Incorrecto') \n",
    "    numero_ingresado = int(input('Introduce el PIN')) #Preguntar al usuario por la contraseña\n",
    "\n",
    "print('mensaje oculto: felicidades, te ganaste un regalo 🎁') #Si se ingresa la contraseña correcta, se imprime un mensaje\n",
    "break"
   ]
  },
  {
   "cell_type": "code",
   "execution_count": null,
   "id": "8d33d438",
   "metadata": {},
   "outputs": [
    {
     "name": "stdout",
     "output_type": "stream",
     "text": [
      "mensaje oculto: felicidades, te ganaste un regalo 🎁\n"
     ]
    }
   ],
   "source": [
    "while True: \n",
    "    PIN = 50 #Almacenar la contraseña en una variable\n",
    "    numero_ingresado = int(input('Introduce el PIN')) #Preguntar al usuario por la contraseña\n",
    "    if numero_ingresado == PIN: #Si se ingresa la contraseña correcta, se imprime un mensaje\n",
    "        print('mensaje oculto: felicidades, te ganaste un regalo 🎁') \n",
    "        break\n",
    "    else:\n",
    "        print('Incorrecto') #Si la contraseña es incorrecta, se muestra \"incorrecto\"\n",
    "        break \n",
    "        "
   ]
  },
  {
   "cell_type": "markdown",
   "id": "cd1bdb1e",
   "metadata": {},
   "source": [
    "### Challenge II \n",
    "Escribir un programa en el que se \n",
    "pregunte al usuario por una temperatura (en grados Celsius),\n",
    "imprima la temperatura escrita\n",
    "clasificar la temperatura ingresada en los siguientes niveles:\n",
    "\n",
    "Entre -10 y 18 grados, que imprima \"Fresquete\".\n",
    "Entre 19 y 30 grados, que imprima \"Calor'i\".\n",
    "Entre 31 y 45 grados, que imprima \"Hakuuuuuu\".\n",
    "Para todo lo demás, imprimir \"Ñamano mba'e!\"."
   ]
  },
  {
   "cell_type": "code",
   "execution_count": null,
   "id": "0017de22",
   "metadata": {},
   "outputs": [
    {
     "name": "stdout",
     "output_type": "stream",
     "text": [
      "la temperatura es 18 C°\n",
      "fresquete\n"
     ]
    }
   ],
   "source": [
    "temperatura_celsius = int(input(\"Ingrese la temperatura actual\"))\n",
    "print(f'la temperatura es {temperatura_celsius} C°')\n",
    "\n",
    "if temperatura_celsius >= -10 and temperatura_celsius < 19:\n",
    "    print('fresquete')\n",
    "\n",
    "elif temperatura_celsius >= 19 and temperatura_celsius < 31:\n",
    "    print(\"calor'i\")\n",
    "\n",
    "elif temperatura_celsius >= 31 and temperatura_celsius <= 45:\n",
    "    print('Hakuuuu')\n",
    "\n",
    "else:\n",
    "    print(\"Ñamano mba'e!\")\n"
   ]
  },
  {
   "cell_type": "markdown",
   "id": "01111e22",
   "metadata": {},
   "source": [
    "### Challenge I \n",
    "Escribe un programa que **pregunte** al usuario por su edad y determine si tiene edad suficiente para comprar y consumir alcohol. \n",
    "- Si el usuario tiene mas de 21 imprimir \"hace lo que quieras\"\n",
    "- Si el usuario tiene mas de 18 pero menos e 21 imprimir \"podes tomar pero no comprar\"\n",
    "- Si el usuario tiene menos de 18 imprimir \"juguito nomas\"\n",
    "\n",
    "Menor que 21: puede tomar, no comprar\n",
    "Mayor que 18: puede tomar, no comprar\n",
    "menor que 18: juguito nomas "
   ]
  },
  {
   "cell_type": "code",
   "execution_count": null,
   "id": "bce7eb2c",
   "metadata": {},
   "outputs": [
    {
     "name": "stdout",
     "output_type": "stream",
     "text": [
      "juguito nomas\n"
     ]
    }
   ],
   "source": [
    "# Challenge I \n",
    "\n",
    "edad_individuo = int(input(\"Ingrese su edad\"))\n",
    "\n",
    "if edad_individuo < 18:\n",
    "    print(\"juguito nomas\")\n",
    "\n",
    "elif edad_individuo > 20:\n",
    "    print(\"Hace o que quieras :)\")\n",
    "\n",
    "else: \n",
    "    print(\"podes tomar, no comprar\")"
   ]
  },
  {
   "cell_type": "markdown",
   "id": "e89f484b",
   "metadata": {},
   "source": [
    "## 1. Condicionales\n",
    "    Se ejecutan diferentes bloques de código según si se cumple o no una condición. \n",
    "    Se utilizan operadores de comparación. \n",
    "    Al hacer una comparacion, el valor que devuelve pyhton es un boolean (si o no)\n",
    "    Se utilizan operadores de comparacion:\n",
    "    - Mayor >\n",
    "    - Menor >\n",
    "    - Mayor o igual >=\n",
    "    - Menor o igual <=\n",
    "    - Es igual ==\n",
    "    - Diferente !=\n",
    "\n",
    "### Condicionales\n",
    "    - if (si)\n",
    "    - elif (si no, si)\n",
    "    - else (si no)\n",
    "\n",
    "## 2. Operadores lógicos: \n",
    "    Nos permiten combinar las operaciones. \n",
    "    - and (y)\n",
    "    - or (o)\n",
    "    - not (not)\n",
    "\n",
    "## 3. Bucles\n",
    "    Bucle condicional - While: Nos permite ejecutar el codigo siempre que se cumpla la condicion. (Ejemplo, si es verdadero, se ejecuta)\n",
    "    \n",
    "    Un bucle iterativo (for) recorre la cantidad de elementos que tenemos, y nos permite repetir una accion una cantidad de veces limitada. En cada repeticion, se tiene en cuenta el valor anterior.\n",
    "## 4. Listas\n",
    "    - Una lista es una agrupacion de objetos que pueden ser de distintos tipos de datos. Los construimos colocando los elementos entre corchetes [] y separados por comas.\n",
    "    Posicion: comienza desde el uno. \n",
    "    Indice: comienza desde el 0. "
   ]
  },
  {
   "cell_type": "code",
   "execution_count": null,
   "id": "1b84fe0b",
   "metadata": {},
   "outputs": [],
   "source": [
    "\n",
    "edad_individuo = int(input(\"Ingrese su edad\"))\n",
    "\n",
    "if edad_individuo < 18:\n",
    "    print(\"juguito nomas\")\n",
    "\n",
    "elif edad_individuo > 20:\n",
    "    print(\"Hace o que quieras :)\")\n",
    "\n",
    "else: \n",
    "    print(\"podes tomar, no comprar\")"
   ]
  },
  {
   "cell_type": "code",
   "execution_count": null,
   "id": "4b8f58b3",
   "metadata": {},
   "outputs": [
    {
     "name": "stdout",
     "output_type": "stream",
     "text": [
      "['pera', 'manzana', 'banana', 'kiwi']\n",
      "['pera', 'durazno', 'banana', 'kiwi']\n",
      "['durazno', 'banana', 'kiwi']\n",
      "['durazno', 'kiwi']\n",
      "2\n"
     ]
    }
   ],
   "source": [
    "\n",
    "\n",
    "# diferentes tipos de datos\n",
    "lista_bool = [True, False, True]\n",
    "lista_numeros = [1, 2, 3, 4]\n",
    "\n",
    "# Añadir\n",
    "lista_frutas.append(\"kiwi\")\n",
    "print(lista_frutas)\n",
    "\n",
    "# Modificar\n",
    "lista_frutas[1] = \"durazno\"\n",
    "print(lista_frutas)\n",
    "\n",
    "# Eliminar un elemento especifico\n",
    "lista_frutas.remove(\"pera\")\n",
    "print(lista_frutas)lista_frutas = [\"pera\", \"manzana\", \"banana\"]\n",
    "\n",
    "# Eliminar un elemento por indice\n",
    "lista_frutas.pop(1)\n",
    "print(lista_frutas)\n",
    "\n",
    "# Contar elementos de la lista\n",
    "print(len(lista_frutas))\n"
   ]
  },
  {
   "cell_type": "code",
   "execution_count": null,
   "id": "30696ba1",
   "metadata": {},
   "outputs": [
    {
     "name": "stdout",
     "output_type": "stream",
     "text": [
      "s\n",
      "a\n",
      "l\n",
      "u\n",
      "d\n",
      "o\n"
     ]
    }
   ],
   "source": [
    "for letra in \"saludo\":\n",
    "    print(letra)"
   ]
  },
  {
   "cell_type": "code",
   "execution_count": null,
   "id": "508941ee",
   "metadata": {},
   "outputs": [
    {
     "name": "stdout",
     "output_type": "stream",
     "text": [
      "tomate\n",
      "cebolla\n",
      "locote\n",
      "ajo\n",
      "zapallo\n"
     ]
    }
   ],
   "source": [
    "lista_super = [\"tomate\", \"cebolla\", \"locote\", \"ajo\", \"zapallo\"]\n",
    "for articulo in lista_super:\n",
    "    print(articulo)"
   ]
  },
  {
   "cell_type": "code",
   "execution_count": null,
   "id": "064431c2",
   "metadata": {},
   "outputs": [
    {
     "name": "stdout",
     "output_type": "stream",
     "text": [
      "hola, buen dia\n",
      "hola, buen dia\n",
      "hola, buen dia\n",
      "hola, buen dia\n",
      "hola, buen dia\n"
     ]
    }
   ],
   "source": [
    "for i in range(5): #Cantidad de veces que se repetira\n",
    "    print(\"hola, buen dia\")"
   ]
  },
  {
   "cell_type": "code",
   "execution_count": null,
   "id": "3ecfc803",
   "metadata": {},
   "outputs": [
    {
     "name": "stdout",
     "output_type": "stream",
     "text": [
      "dia: 1\n",
      "dia: 2\n",
      "dia: 3\n",
      "dia: 4\n",
      "dia: 5\n",
      "dia: 6\n",
      "dia: 7\n"
     ]
    }
   ],
   "source": [
    "dias_de_la_semana = [1, 2, 3, 4, 5, 6, 7]\n",
    "for dia in dias_de_la_semana:\n",
    "    print(f\"dia: {dia}\")"
   ]
  },
  {
   "cell_type": "code",
   "execution_count": null,
   "id": "0c966900",
   "metadata": {},
   "outputs": [
    {
     "name": "stdout",
     "output_type": "stream",
     "text": [
      "numero incorrecto\n",
      "numero incorrecto\n",
      "numero incorrecto\n",
      "numero incorrecto\n",
      "el numero es correcto\n"
     ]
    }
   ],
   "source": [
    "#Bucle ifinito\n",
    "while True:\n",
    "    numero_ingresado = int(input('introduce un numero'))\n",
    "    if numero_ingresado == numero:\n",
    "        print('el numero es correcto')\n",
    "        break\n",
    "    else:\n",
    "        print('numero incorrecto')\n",
    "\n"
   ]
  },
  {
   "cell_type": "code",
   "execution_count": null,
   "id": "3228303b",
   "metadata": {},
   "outputs": [
    {
     "name": "stdout",
     "output_type": "stream",
     "text": [
      "10\n",
      "numero correcto\n"
     ]
    }
   ],
   "source": [
    "#Bucle infinito\n",
    "numero_a_adivinar = 10\n",
    "numero = 3\n",
    "\n",
    "#El codigo verifica si es falso o verdadero\n",
    "while numero != numero_a_adivinar: #condicion a cumplir\n",
    "    numero = int(input('introduce un numero')) #Como es falso, el bucle se repite\n",
    "    print(numero)\n",
    "\n",
    "print(\"numero correcto\") #El bucle termina una vez que la condicion se cumple\n"
   ]
  },
  {
   "cell_type": "code",
   "execution_count": null,
   "id": "64748d56",
   "metadata": {},
   "outputs": [
    {
     "name": "stdout",
     "output_type": "stream",
     "text": [
      "estudiante\n"
     ]
    }
   ],
   "source": [
    "# If se utiliza solo una vez\n",
    "# Elif se puede utilizar muchas veces\n",
    "edad_individuo = 10\n",
    "\n",
    "if edad_individuo < 18:\n",
    "    print(\"estudiante\")\n",
    "elif edad_individuo > 65:\n",
    "    print(\"jubilado\")\n",
    "else: \n",
    "    print(\"trabajador\")\n"
   ]
  },
  {
   "cell_type": "code",
   "execution_count": null,
   "id": "9fc6cbad",
   "metadata": {},
   "outputs": [
    {
     "name": "stdout",
     "output_type": "stream",
     "text": [
      "jubilado\n"
     ]
    }
   ],
   "source": [
    "edad_persona = 65\n",
    "trabaja = True\n",
    "if edad_persona < 18:\n",
    "    print(\"estudiante\")\n",
    "elif edad_persona < 65 and trabaja == True:\n",
    "    print(\"activa laboralmente\")\n",
    "elif edad_persona < 65 and trabaja == False: \n",
    "    print('desempleado')\n",
    "else:\n",
    "    print('jubilado')"
   ]
  },
  {
   "cell_type": "code",
   "execution_count": null,
   "id": "08d13706",
   "metadata": {},
   "outputs": [
    {
     "name": "stdout",
     "output_type": "stream",
     "text": [
      "jubilado\n"
     ]
    }
   ],
   "source": [
    "def chequear_edad(edad_laboral, trabaja): \n",
    "    if edad_laboral < 18:\n",
    "        print('estudiante')\n",
    "    elif edad_laboral < 65 and trabaja == True:\n",
    "        print('activo laboralmente')\n",
    "    elif edad_laboral < 65 and trabaja == False:\n",
    "        print('desempleado')\n",
    "    else:\n",
    "        print('jubilado')\n",
    "\n",
    "chequear_edad(70, True)"
   ]
  },
  {
   "cell_type": "markdown",
   "id": "35c89a70",
   "metadata": {},
   "source": [
    "## Repaso día 1"
   ]
  },
  {
   "cell_type": "code",
   "execution_count": null,
   "id": "48df46cf",
   "metadata": {},
   "outputs": [],
   "source": [
    "def saludo_bienvenida(usuario):\n",
    "    print(f\"buen dia {usuario} :) \")"
   ]
  },
  {
   "cell_type": "code",
   "execution_count": null,
   "id": "31163b03",
   "metadata": {},
   "outputs": [
    {
     "name": "stdout",
     "output_type": "stream",
     "text": [
      "buen dia Ani :) \n"
     ]
    }
   ],
   "source": [
    "\n",
    "usuario = input(\"ingrese su nombre\")\n",
    "saludo_bienvenida(usuario)\n"
   ]
  }
 ],
 "metadata": {
  "kernelspec": {
   "display_name": "Python 3",
   "language": "python",
   "name": "python3"
  },
  "language_info": {
   "codemirror_mode": {
    "name": "ipython",
    "version": 3
   },
   "file_extension": ".py",
   "mimetype": "text/x-python",
   "name": "python",
   "nbconvert_exporter": "python",
   "pygments_lexer": "ipython3",
   "version": "3.13.3"
  }
 },
 "nbformat": 4,
 "nbformat_minor": 5
}
