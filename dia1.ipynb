{
 "cells": [
  {
   "cell_type": "markdown",
   "id": "20cecc2e",
   "metadata": {},
   "source": [
    "## Challenge - Penguin Bootcamp 23.04 V\n",
    "Escribe una funcion que pregunte las caracteristicas de un elemento a comprar e imprime el elemento con sus caracteristicas."
   ]
  },
  {
   "cell_type": "code",
   "execution_count": 54,
   "id": "4350671e",
   "metadata": {},
   "outputs": [
    {
     "name": "stdout",
     "output_type": "stream",
     "text": [
      "Nombre: cuadro abstracto\n",
      "Color: dorado\n",
      "Tamaño: 30x50cm\n",
      "Nombre: cuadro abstracto\n",
      "Color: negro\n",
      "Tamaño: 50x50cm\n"
     ]
    }
   ],
   "source": [
    "\n",
    "#Definir la función, con tres caracteristicas opcionales, Python espera el valor de cada caracteristica\n",
    "def describir_producto(nombre, color, tamaño):\n",
    "    print(f\"Nombre: {nombre}\")\n",
    "    print(f\"Color: {color}\")\n",
    "    print(f\"Tamaño: {tamaño}\")\n",
    "\n",
    "#Llamar a la función, asignar los parámetros y valores (se confirman las caracteristicas)\n",
    "describir_producto(nombre=\"cuadro abstracto\", color=\"dorado\", tamaño=\"30x50cm\")\n",
    "describir_producto(nombre=\"cuadro abstracto\", color=\"negro\", tamaño=\"50x50cm\")\n",
    "\n"
   ]
  },
  {
   "cell_type": "markdown",
   "id": "9ae508d1",
   "metadata": {},
   "source": [
    "## Challenge - Penguin Bootcamp 23.04 IV\n",
    "Crear una función de un proceso que se les ocurra que tenga varios pasos.\n",
    "Ejecutar la función 3 veces."
   ]
  },
  {
   "cell_type": "code",
   "execution_count": 33,
   "id": "6f6bb937",
   "metadata": {},
   "outputs": [
    {
     "name": "stdout",
     "output_type": "stream",
     "text": [
      "posicionarse en el campo para texto\n",
      "escribir el mensaje\n",
      "apretar el boton de envio\n",
      "posicionarse en el campo para texto\n",
      "escribir el mensaje\n",
      "apretar el boton de envio\n",
      "posicionarse en el campo para texto\n",
      "escribir el mensaje\n",
      "apretar el boton de envio\n"
     ]
    }
   ],
   "source": [
    "def enviar_mensaje_whatsapp():\n",
    "        print(\"posicionarse en el campo para texto\")\n",
    "        print(\"escribir el mensaje\")\n",
    "        print(\"apretar el boton de envio\")\n",
    "\n",
    "enviar_mensaje_whatsapp()\n",
    "enviar_mensaje_whatsapp()\n",
    "enviar_mensaje_whatsapp()"
   ]
  },
  {
   "cell_type": "markdown",
   "id": "be43621c",
   "metadata": {},
   "source": [
    "## Challenge - Penguin Bootcamp 23.04 I\n",
    " Suma: asignar dos números en dos variables diferentes: cantidad_de_manzanas y cantidad_de_naranjas. Luego sumar ambas variables en cantidad_de_frutas. Imprimir la última variable. \n",
    "\n",
    "Resta: asignar un valor numérico a la variable frutas_vendidas. Luego, asignar la resta entre cantidad_de_frutas y frutas_vendidas a la variable frutas_restantes. Imprimir la última variable. "
   ]
  },
  {
   "cell_type": "code",
   "execution_count": 11,
   "id": "648412f4",
   "metadata": {},
   "outputs": [
    {
     "name": "stdout",
     "output_type": "stream",
     "text": [
      "15\n",
      "2\n"
     ]
    }
   ],
   "source": [
    "# Suma\n",
    "cantidad_de_manzanas = 10\n",
    "cantidad_de_naranjas = 5\n",
    "cantidad_de_frutas = cantidad_de_manzanas + cantidad_de_naranjas\n",
    "print(cantidad_de_frutas)\n",
    "\n",
    "# Resta\n",
    "frutas_vendidas = 13\n",
    "frutas_restantes = cantidad_de_frutas - frutas_vendidas\n",
    "print(frutas_restantes)"
   ]
  },
  {
   "cell_type": "markdown",
   "id": "11b61c80",
   "metadata": {},
   "source": [
    "## Challenge - Penguin Bootcamp 23.04 II\n",
    "- Asignar el nombre y el apellido de tu compañera/o a las variables nombre y apellido.\n",
    "- Luego, imprimir una frase, utilizando las variables.\n",
    "Ejemplo: \"Hola. Me llamo Claudia Melgarejo. Mucho gusto.\""
   ]
  },
  {
   "cell_type": "code",
   "execution_count": null,
   "id": "c1bffb79",
   "metadata": {},
   "outputs": [
    {
     "name": "stdout",
     "output_type": "stream",
     "text": [
      "Hola, me llamo Constanza Heinrich. Mucho gusto :)\n"
     ]
    }
   ],
   "source": [
    "#Challenge II\n",
    "nombre = \"Constanza\"\n",
    "apellido = \"Heinrich\"\n",
    "print(f\"Hola, me llamo {nombre} {apellido}. Mucho gusto :)\")"
   ]
  },
  {
   "cell_type": "markdown",
   "id": "655ad874",
   "metadata": {},
   "source": [
    "## Challenge - Penguin Bootcamp 23.04 III - 10 minutos\n",
    "Solicitar al usuario ingresar dos números y almacenarlos en dos variables. Luego, imprimir la suma de los dos números."
   ]
  },
  {
   "cell_type": "code",
   "execution_count": 5,
   "id": "aa1d52e1",
   "metadata": {},
   "outputs": [
    {
     "name": "stdout",
     "output_type": "stream",
     "text": [
      "4\n",
      "8\n",
      "La suma de ambos numeros es 12\n"
     ]
    }
   ],
   "source": [
    "#Challenge III\n",
    "numero1 = int(input(\"Ingrese el primer numero\"))\n",
    "print(numero1)\n",
    "numero2 = int(input(\"Ingrese el segundo numero\"))\n",
    "print(numero2)\n",
    "suma = numero1 + numero2\n",
    "print(f\"La suma de ambos numeros es {suma}\")"
   ]
  },
  {
   "cell_type": "code",
   "execution_count": null,
   "id": "c3ef12c9",
   "metadata": {},
   "outputs": [
    {
     "name": "stdout",
     "output_type": "stream",
     "text": [
      "El primer numero es 8\n",
      "El segundo numero es 2\n",
      "La suma de ambos numeros es 10\n"
     ]
    }
   ],
   "source": [
    "#Ejemplo 2\n",
    "numero1 = int(input(\"Ingrese el primer numero\"))\n",
    "print(f\"El primer numero es {numero1}\")\n",
    "numero2 = int(input(\"Ingrese el segundo numero\"))\n",
    "print(f\"El segundo numero es {numero2}\")\n",
    "suma = numero1 + numero2\n",
    "print(f\"La suma de ambos numeros es {suma}\")\n"
   ]
  },
  {
   "cell_type": "markdown",
   "id": "f6de9b53",
   "metadata": {},
   "source": [
    "Anotaciones:\n",
    "## Variables: \n",
    "- lugar donde almacenamos los datos. \n",
    "## Tipos de datos\n",
    "- int = integer 112\n",
    "- float = floating 1.2\n",
    "- str = string \"ani\" or 'ani' \n",
    "- bool = boolean - True or False\n",
    "## Operaciones aritméticas en Python\n",
    "- Lee de izquierda a derecha\n",
    "- Sigue las reglas de precedencia\n",
    "- SUMA +\n",
    "- RESTA -\n",
    "- MULTIPLICACION *\n",
    "- DIVISION / (float)\n",
    "- DIVISION ENTERA // (int)\n",
    "## Funciones\n",
    "Conjunto de instrucciones de una operacion que quisieramos volver a repetir\n",
    "Podeoms reutilizar código que ya escribimos anteriormente sin tener que volver a escribirlo\n",
    "## Parámetros y Argumentos \n",
    "Cuando repetimos las mismas funciones, pero con alguna pequeña variación. \n",
    "El parametro es lo que necesitamos para que la función se ejecute. Cuando se ejecuta la función con el valor asignado, se denomina argumento.\n",
    "Parametro: Definimos la función\n",
    "Argumento: cuando llamamos a la función\n",
    "Alcance o Scope:\n",
    "- Global: un alcance disponible para todo el programa. Se puede utilizar en cualquier momento y cualquier lugar del programa.\n",
    "- Local: esta disponible unicamente dentro de un bloque de codigo o una función."
   ]
  },
  {
   "cell_type": "code",
   "execution_count": 51,
   "id": "98606cb2",
   "metadata": {},
   "outputs": [
    {
     "name": "stdout",
     "output_type": "stream",
     "text": [
      "abrir el pan\n",
      "agregar huevo\n",
      "agregar felipe\n",
      "cerrar pan\n",
      "Listo!\n",
      "abrir el pan\n",
      "agregar tomate\n",
      "agregar pita\n",
      "cerrar pan\n",
      "Listo!\n"
     ]
    }
   ],
   "source": [
    "def preparar_sandwich(ingrediente, pan):\n",
    "    print(\"abrir el pan\")\n",
    "    print(f\"agregar {ingrediente}\")\n",
    "    print(f\"agregar {pan}\")\n",
    "    print(\"cerrar pan\")\n",
    "    print(\"Listo!\")\n",
    "\n",
    "preparar_sandwich(ingrediente=\"huevo\", pan=\"felipe\")\n",
    "preparar_sandwich(ingrediente=\"tomate\", pan=\"pita\")"
   ]
  },
  {
   "cell_type": "code",
   "execution_count": null,
   "id": "0570a8ab",
   "metadata": {},
   "outputs": [
    {
     "name": "stdout",
     "output_type": "stream",
     "text": [
      "estoy cocinando carne\n",
      "estoy cocinando carne\n"
     ]
    }
   ],
   "source": [
    "#Alcance - variable local\n",
    "def preparar_comida():\n",
    "    ingrediente = \"carne\"\n",
    "    print(f\"estoy cocinando {ingrediente}\")\n",
    "\n",
    "preparar_comida()\n",
    "\n",
    "ingrediente = \"pollo\"\n",
    "\n",
    "preparar_comida()\n"
   ]
  },
  {
   "cell_type": "code",
   "execution_count": 8,
   "id": "39b8fc00",
   "metadata": {},
   "outputs": [
    {
     "name": "stdout",
     "output_type": "stream",
     "text": [
      "abrir el pan\n",
      "agregar jamon\n",
      "agregar queso\n",
      "cerrar pan\n",
      "Listo!\n",
      "abrir el pan\n",
      "agregar jamon\n",
      "agregar queso\n",
      "cerrar pan\n",
      "Listo!\n",
      "abrir el pan\n",
      "agregar jamon\n",
      "agregar queso\n",
      "cerrar pan\n",
      "Listo!\n"
     ]
    }
   ],
   "source": [
    "def preparar_sandwich():\n",
    "        print(\"abrir el pan\")\n",
    "        print(\"agregar jamon\")\n",
    "        print(\"agregar queso\")\n",
    "        print(\"cerrar pan\")\n",
    "        print(\"Listo!\")\n",
    "\n",
    "preparar_sandwich()\n",
    "preparar_sandwich()\n",
    "preparar_sandwich()\n"
   ]
  },
  {
   "cell_type": "code",
   "execution_count": null,
   "id": "38f09c81",
   "metadata": {},
   "outputs": [
    {
     "name": "stdout",
     "output_type": "stream",
     "text": [
      "Ani Velazquez\n",
      "Hola, mi nombre es Ani Velazquez\n",
      "Hola, mi nombre es Ani Velazquez\n",
      "Hola, mi nombre es Ani Velazquez\n"
     ]
    }
   ],
   "source": [
    "#Texto\n",
    "nombre = \"Ani\"\n",
    "apellido = \"Velazquez\"\n",
    "nombre_completo = nombre + \" \" + apellido\n",
    "print(nombre_completo)\n",
    "print('Hola, mi nombre es' + \" \" + nombre_completo)\n",
    "print(\"Hola, mi nombre es\", nombre_completo)\n",
    "print(f\"Hola, mi nombre es {nombre} {apellido}\")\n"
   ]
  },
  {
   "cell_type": "code",
   "execution_count": 9,
   "id": "158aa857",
   "metadata": {},
   "outputs": [
    {
     "name": "stdout",
     "output_type": "stream",
     "text": [
      "35000\n",
      "30000\n",
      "76000\n",
      "5066\n"
     ]
    }
   ],
   "source": [
    "# Suma\n",
    "precio_total = 15000 + 20000\n",
    "print(precio_total)\n",
    "# Resta\n",
    "precio_descuento = precio_total - 5000\n",
    "print(precio_descuento)\n",
    "# Calculo por Persona\n",
    "precio_gaseosa = 19000\n",
    "cantidad_gaseosa = 4\n",
    "cantidad_persona = 15\n",
    "precio_final = precio_gaseosa * cantidad_gaseosa\n",
    "promedio_persona = precio_final // cantidad_persona\n",
    "print(precio_final)\n",
    "print (promedio_persona)"
   ]
  },
  {
   "cell_type": "code",
   "execution_count": null,
   "id": "0acba627",
   "metadata": {},
   "outputs": [],
   "source": [
    "#El usuario introduce una respuesta con input\n",
    "nombre = input(\"¿Cual es tu nombre?\")\n",
    "print = nombre"
   ]
  },
  {
   "cell_type": "code",
   "execution_count": null,
   "id": "900ac9b1",
   "metadata": {},
   "outputs": [
    {
     "name": "stdout",
     "output_type": "stream",
     "text": [
      "('naranja', 'pera')\n"
     ]
    }
   ],
   "source": [
    "#Separar con comas\n",
    "frutas = \"naranja\", \"pera\"\n",
    "print (frutas)\n"
   ]
  },
  {
   "cell_type": "code",
   "execution_count": null,
   "id": "c282dd2e",
   "metadata": {},
   "outputs": [
    {
     "name": "stdout",
     "output_type": "stream",
     "text": [
      "manzana\n",
      "5\n",
      "naranja\n"
     ]
    }
   ],
   "source": [
    "#Operaciones\n",
    "frutas = (\"manzana\")\n",
    "print(frutas)\n",
    "cantidad_de_frutas = 5\n",
    "print(cantidad_de_frutas)\n",
    "frutas = \"naranja\"\n",
    "print(frutas)\n"
   ]
  },
  {
   "cell_type": "code",
   "execution_count": null,
   "id": "aebd5c3c",
   "metadata": {},
   "outputs": [
    {
     "name": "stdout",
     "output_type": "stream",
     "text": [
      "Ani Velazquez\n",
      "Ani\n",
      "Velazquez\n"
     ]
    }
   ],
   "source": [
    "print(nombre, apellido) # type: ignore\n",
    "print (nombre) # type: ignore\n",
    "print (apellido) # type: ignore"
   ]
  },
  {
   "cell_type": "code",
   "execution_count": null,
   "id": "1f7f495b",
   "metadata": {},
   "outputs": [
    {
     "name": "stdout",
     "output_type": "stream",
     "text": [
      "\"ani\"\n"
     ]
    }
   ],
   "source": [
    "numero = 12345\n",
    "numero_decimal = 1.2\n",
    "nombre = \"ani\"\n",
    "cajon_abierto = False\n"
   ]
  },
  {
   "cell_type": "code",
   "execution_count": null,
   "id": "cd155dda",
   "metadata": {},
   "outputs": [
    {
     "name": "stdout",
     "output_type": "stream",
     "text": [
      "Hola Mundo\n"
     ]
    }
   ],
   "source": [
    "print(\"Hola Mundo\")"
   ]
  },
  {
   "cell_type": "code",
   "execution_count": 13,
   "id": "1a84c642",
   "metadata": {},
   "outputs": [
    {
     "name": "stdout",
     "output_type": "stream",
     "text": [
      "encontrar al gato\n",
      "agarrar al gato\n",
      "abrir la ducha\n",
      "poner shampoo al gato\n",
      "enjuagar al gato\n",
      "secar al gato\n",
      "liberar al gato\n",
      "mision cumplida, gatito limpito\n",
      "encontrar al gato\n",
      "agarrar al gato\n",
      "abrir la ducha\n",
      "poner shampoo al gato\n",
      "enjuagar al gato\n",
      "secar al gato\n",
      "liberar al gato\n",
      "mision cumplida, gatito limpito\n",
      "encontrar al gato\n",
      "agarrar al gato\n",
      "abrir la ducha\n",
      "poner shampoo al gato\n",
      "enjuagar al gato\n",
      "secar al gato\n",
      "liberar al gato\n",
      "mision cumplida, gatito limpito\n"
     ]
    }
   ],
   "source": [
    "#Ejemplo de Indentación\n",
    "def limpiar_gato ():\n",
    "    print ('encontrar al gato')\n",
    "    print ('agarrar al gato')\n",
    "    print ('abrir la ducha')\n",
    "    print ('poner shampoo al gato')\n",
    "    print ('enjuagar al gato')\n",
    "    print ('secar al gato')\n",
    "    print ('liberar al gato')\n",
    "\n",
    "    print ('mision cumplida, gatito limpito')\n",
    " \n",
    "limpiar_gato()\n",
    "\n",
    "limpiar_gato()\n",
    "\n",
    "limpiar_gato()"
   ]
  }
 ],
 "metadata": {
  "kernelspec": {
   "display_name": "Python 3",
   "language": "python",
   "name": "python3"
  },
  "language_info": {
   "codemirror_mode": {
    "name": "ipython",
    "version": 3
   },
   "file_extension": ".py",
   "mimetype": "text/x-python",
   "name": "python",
   "nbconvert_exporter": "python",
   "pygments_lexer": "ipython3",
   "version": "3.13.3"
  }
 },
 "nbformat": 4,
 "nbformat_minor": 5
}
