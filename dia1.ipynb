{
 "cells": [
  {
   "cell_type": "markdown",
   "id": "0807ce0d-0f91-4a21-8458-e278cfa9c450",
   "metadata": {},
   "source": [
    "## CHALLENGES - Penguin Bootcamp 23.04"
   ]
  },
  {
   "cell_type": "markdown",
   "id": "be43621c",
   "metadata": {
    "jp-MarkdownHeadingCollapsed": true
   },
   "source": [
    "## Challenge I\n",
    " Suma: asignar dos números en dos variables diferentes: cantidad_de_manzanas y cantidad_de_naranjas. Luego sumar ambas variables en cantidad_de_frutas. Imprimir la última variable. \n",
    "\n",
    "Resta: asignar un valor numérico a la variable frutas_vendidas. Luego, asignar la resta entre cantidad_de_frutas y frutas_vendidas a la variable frutas_restantes. Imprimir la última variable. "
   ]
  },
  {
   "cell_type": "code",
   "execution_count": 11,
   "id": "648412f4",
   "metadata": {},
   "outputs": [
    {
     "name": "stdout",
     "output_type": "stream",
     "text": [
      "15\n",
      "2\n"
     ]
    }
   ],
   "source": [
    "# Suma\n",
    "cantidad_de_manzanas = 10\n",
    "cantidad_de_naranjas = 5\n",
    "cantidad_de_frutas = cantidad_de_manzanas + cantidad_de_naranjas\n",
    "print(cantidad_de_frutas)\n",
    "\n",
    "# Resta\n",
    "frutas_vendidas = 13\n",
    "frutas_restantes = cantidad_de_frutas - frutas_vendidas\n",
    "print(frutas_restantes)"
   ]
  },
  {
   "cell_type": "markdown",
   "id": "11b61c80",
   "metadata": {
    "jp-MarkdownHeadingCollapsed": true
   },
   "source": [
    "## Challenge - II\n",
    "- Asignar el nombre y el apellido de tu compañera/o a las variables nombre y apellido.\n",
    "- Luego, imprimir una frase, utilizando las variables.\n",
    "Ejemplo: \"Hola. Me llamo Claudia Melgarejo. Mucho gusto.\""
   ]
  },
  {
   "cell_type": "code",
   "execution_count": 1,
   "id": "c1bffb79",
   "metadata": {},
   "outputs": [
    {
     "name": "stdout",
     "output_type": "stream",
     "text": [
      "Hola, me llamo Ellie Williams. Mucho gusto :)\n"
     ]
    }
   ],
   "source": [
    "#Challenge II\n",
    "nombre = \"Ellie\"\n",
    "apellido = \"Williams\"\n",
    "print(f\"Hola, me llamo {nombre} {apellido}. Mucho gusto :)\")"
   ]
  },
  {
   "cell_type": "markdown",
   "id": "655ad874",
   "metadata": {
    "jp-MarkdownHeadingCollapsed": true
   },
   "source": [
    "## Challenge - III\n",
    "Solicitar al usuario ingresar dos números y almacenarlos en dos variables. Luego, imprimir la suma de los dos números."
   ]
  },
  {
   "cell_type": "code",
   "execution_count": 1,
   "id": "c3ef12c9",
   "metadata": {},
   "outputs": [
    {
     "name": "stdout",
     "output_type": "stream",
     "text": [
      "El primer numero es 8\n",
      "El segundo numero es 2\n",
      "La suma de ambos numeros es 10\n"
     ]
    }
   ],
   "source": [
    "#Challenge III\n",
    "numero1 = int(input(\"Ingrese el primer numero\"))\n",
    "print(f\"El primer numero es {numero1}\")\n",
    "numero2 = int(input(\"Ingrese el segundo numero\"))\n",
    "print(f\"El segundo numero es {numero2}\")\n",
    "suma = numero1 + numero2\n",
    "print(f\"La suma de ambos numeros es {suma}\")"
   ]
  },
  {
   "cell_type": "markdown",
   "id": "9ae508d1",
   "metadata": {
    "jp-MarkdownHeadingCollapsed": true
   },
   "source": [
    "## Challenge - IV\n",
    "Crear una función de un proceso que se les ocurra que tenga varios pasos.\n",
    "Ejecutar la función 3 veces."
   ]
  },
  {
   "cell_type": "code",
   "execution_count": 33,
   "id": "6f6bb937",
   "metadata": {},
   "outputs": [
    {
     "name": "stdout",
     "output_type": "stream",
     "text": [
      "posicionarse en el campo para texto\n",
      "escribir el mensaje\n",
      "apretar el boton de envio\n",
      "posicionarse en el campo para texto\n",
      "escribir el mensaje\n",
      "apretar el boton de envio\n",
      "posicionarse en el campo para texto\n",
      "escribir el mensaje\n",
      "apretar el boton de envio\n"
     ]
    }
   ],
   "source": [
    "def enviar_mensaje_whatsapp():\n",
    "        print(\"posicionarse en el campo para texto\")\n",
    "        print(\"escribir el mensaje\")\n",
    "        print(\"apretar el boton de envio\")\n",
    "\n",
    "enviar_mensaje_whatsapp()\n",
    "enviar_mensaje_whatsapp()\n",
    "enviar_mensaje_whatsapp()"
   ]
  },
  {
   "cell_type": "markdown",
   "id": "20cecc2e",
   "metadata": {
    "jp-MarkdownHeadingCollapsed": true
   },
   "source": [
    "## Challenge - V\n",
    "Escribe una funcion que pregunte las caracteristicas de un elemento a comprar e imprime el elemento con sus caracteristicas."
   ]
  },
  {
   "cell_type": "code",
   "execution_count": null,
   "id": "4350671e",
   "metadata": {},
   "outputs": [
    {
     "name": "stdout",
     "output_type": "stream",
     "text": [
      "¿Que producto quieres? 2\n"
     ]
    },
    {
     "name": "stdout",
     "output_type": "stream",
     "text": [
      "Nombre: cuadro vacio\n",
      "Color: blanco\n",
      "Tamaño: 10x10cm\n"
     ]
    }
   ],
   "source": [
    "#Challenge \n",
    "#Definir la función, con tres caracteristicas opcionales, Python espera el valor de cada caracteristica\n",
    "def describir_producto(nombre, color, tamaño):\n",
    "    print(f\"Nombre: {nombre}\")\n",
    "    print(f\"Color: {color}\")\n",
    "    print(f\"Tamaño: {tamaño}\")\n",
    "\n",
    "productos = [\n",
    "    [\"cuadro abstracto\", \"dorado\", \"30x50cm\"],\n",
    "    [\"cuadro realista\", \"negro\", \"50x50cm\"],\n",
    "    [\"cuadro vacio\", \"blanco\", \"10x10cm\"],\n",
    "]\n",
    "\n",
    "pic = int(input(\"¿Que producto quieres?\"))\n",
    "\n",
    "#Al llamar a la función, asigna el valor de los parámetros \n",
    "\n",
    "#describir_producto(nombre=\"cuadro abstracto\", color=\"dorado\", tamaño=\"30x50cm\")\n",
    "#describir_producto(nombre=\"cuadro realista\", color=\"negro\", tamaño=\"50x50cm\")\n",
    "\n",
    "#Utilizando listas:\n",
    "describir_producto(productos[pic][0],productos[pic][1],productos[pic][2])"
   ]
  },
  {
   "cell_type": "markdown",
   "id": "5c48da5b-2986-4c72-b0d3-a4e690f8ed09",
   "metadata": {
    "jp-MarkdownHeadingCollapsed": true
   },
   "source": [
    "## EJEMPLOS / ANOTACIONES"
   ]
  },
  {
   "cell_type": "code",
   "execution_count": null,
   "id": "cd155dda",
   "metadata": {},
   "outputs": [
    {
     "name": "stdout",
     "output_type": "stream",
     "text": [
      "Hola Mundo\n"
     ]
    }
   ],
   "source": [
    "# Ejemplo de visualizacion\n",
    "print(\"Hola Mundo\")"
   ]
  },
  {
   "cell_type": "code",
   "execution_count": null,
   "id": "0acba627",
   "metadata": {},
   "outputs": [],
   "source": [
    "# El usuario introduce una respuesta con input\n",
    "nombre = input(\"¿Cual es tu nombre?\")\n",
    "print = nombre"
   ]
  },
  {
   "cell_type": "code",
   "execution_count": 2,
   "id": "38f09c81",
   "metadata": {},
   "outputs": [
    {
     "name": "stdout",
     "output_type": "stream",
     "text": [
      "Triss Merigold\n",
      "Hola, mi nombre es Triss Merigold\n",
      "Hola, mi nombre es Triss Merigold\n",
      "Hola, mi nombre es Triss Merigold\n"
     ]
    }
   ],
   "source": [
    "# Ejemplo de Texto\n",
    "nombre = \"Triss\"\n",
    "apellido = \"Merigold\"\n",
    "nombre_completo = nombre + \" \" + apellido\n",
    "print(nombre_completo)\n",
    "# Ejemplo 1\n",
    "print('Hola, mi nombre es' + \" \" + nombre_completo)\n",
    "# Ejemplo 2\n",
    "print(\"Hola, mi nombre es\", nombre_completo)\n",
    "# Ejemplo 3\n",
    "print(f\"Hola, mi nombre es {nombre} {apellido}\")\n"
   ]
  },
  {
   "cell_type": "markdown",
   "id": "3ddfc545-cd00-46cb-82de-5f9c1b0b1692",
   "metadata": {
    "jp-MarkdownHeadingCollapsed": true
   },
   "source": [
    "## Tipos de datos\n",
    "- int = integer 112\n",
    "- float = floating 1.2\n",
    "- str = string \"any\" or 'any' \n",
    "- bool = boolean - True or False"
   ]
  },
  {
   "cell_type": "code",
   "execution_count": 10,
   "id": "86a9455c-d961-4f85-a762-85b9a3f05582",
   "metadata": {},
   "outputs": [],
   "source": [
    "#Tipos de datos \n",
    "numero = 12345\n",
    "numero_decimal = 1.2\n",
    "nombre = \"ani\"\n",
    "cajon_abierto = False\n",
    "cajon_cerrado = True"
   ]
  },
  {
   "cell_type": "code",
   "execution_count": null,
   "id": "900ac9b1",
   "metadata": {},
   "outputs": [
    {
     "name": "stdout",
     "output_type": "stream",
     "text": [
      "('naranja', 'pera')\n"
     ]
    }
   ],
   "source": [
    "# Separar con comas\n",
    "frutas = \"naranja\", \"pera\"\n",
    "print (frutas)"
   ]
  },
  {
   "cell_type": "code",
   "execution_count": 15,
   "id": "1d83da46-c69d-4418-97d7-3ef161d6797a",
   "metadata": {},
   "outputs": [
    {
     "name": "stdout",
     "output_type": "stream",
     "text": [
      "Ingrese el primer numero 8\n"
     ]
    },
    {
     "name": "stdout",
     "output_type": "stream",
     "text": [
      "8\n"
     ]
    },
    {
     "name": "stdout",
     "output_type": "stream",
     "text": [
      "Ingrese el segundo numero 2\n"
     ]
    },
    {
     "name": "stdout",
     "output_type": "stream",
     "text": [
      "2\n",
      "La suma de ambos numeros es 10\n"
     ]
    }
   ],
   "source": [
    "#Ejemplo Variables\n",
    "numero1 = int(input(\"Ingrese el primer numero\"))\n",
    "print(numero1)\n",
    "numero2 = int(input(\"Ingrese el segundo numero\"))\n",
    "print(numero2)\n",
    "suma = numero1 + numero2\n",
    "print(f\"La suma de ambos numeros es {suma}\")"
   ]
  },
  {
   "cell_type": "markdown",
   "id": "ea92415d-3f56-44e9-8061-b36e53ec70f0",
   "metadata": {
    "jp-MarkdownHeadingCollapsed": true
   },
   "source": [
    "## Operaciones aritméticas en Python\n",
    "- Se lee de izquierda a derecha\n",
    "- Sigue las reglas de precedencia\n",
    "- SUMA +\n",
    "- RESTA -\n",
    "- MULTIPLICACION *\n",
    "- DIVISION / (float)\n",
    "- DIVISION ENTERA // (int)"
   ]
  },
  {
   "cell_type": "code",
   "execution_count": null,
   "id": "c282dd2e",
   "metadata": {},
   "outputs": [
    {
     "name": "stdout",
     "output_type": "stream",
     "text": [
      "manzana\n",
      "5\n",
      "naranja\n"
     ]
    }
   ],
   "source": [
    "# Ejemplo de operaciones matemáticas I\n",
    "frutas = (\"manzana\")\n",
    "print(frutas)\n",
    "cantidad_de_frutas = 5\n",
    "print(cantidad_de_frutas)\n",
    "frutas = \"naranja\"\n",
    "print(frutas)\n"
   ]
  },
  {
   "cell_type": "code",
   "execution_count": 9,
   "id": "158aa857",
   "metadata": {},
   "outputs": [
    {
     "name": "stdout",
     "output_type": "stream",
     "text": [
      "35000\n",
      "30000\n",
      "76000\n",
      "5066\n"
     ]
    }
   ],
   "source": [
    "# Ejemplo de operaciones matemáticas II\n",
    "precio_total = 15000 + 20000\n",
    "print(precio_total)\n",
    "# Resta\n",
    "precio_descuento = precio_total - 5000\n",
    "print(precio_descuento)\n",
    "# Calculo por Persona\n",
    "precio_gaseosa = 19000\n",
    "cantidad_gaseosa = 4\n",
    "cantidad_persona = 15\n",
    "precio_final = precio_gaseosa * cantidad_gaseosa\n",
    "promedio_persona = precio_final // cantidad_persona\n",
    "print(precio_final)\n",
    "print (promedio_persona)"
   ]
  },
  {
   "cell_type": "markdown",
   "id": "5dc1b835-5874-423a-8ce7-5e530c51998d",
   "metadata": {
    "jp-MarkdownHeadingCollapsed": true
   },
   "source": [
    "## Funciones\n",
    "- A series of statements which returns some value to a caller. It can also be passed zero or more arguments which may be used in the execution of the body.\n",
    "- Podemos reutilizar código que ya escribimos anteriormente sin tener que volver a escribirlo.\n",
    "\n",
    "## Parámetros y Argumentos \n",
    "- A named entity in a function (or method) definition that specifies an argument (or in some cases, arguments) that the function can accept. \n",
    "Se puede utilizar para repetir las mismas funciones, con variaciones en los valores.\n",
    "El parametro es lo que necesitamos para que la función se ejecute. Cuando se ejecuta la función con el valor asignado, se denomina argumento.\n",
    "- Parametro: Valor que la función espera recibir\n",
    "- Argumento: Valor enviado al llamar a la función"
   ]
  },
  {
   "cell_type": "code",
   "execution_count": 17,
   "id": "39b8fc00",
   "metadata": {},
   "outputs": [
    {
     "name": "stdout",
     "output_type": "stream",
     "text": [
      "abrir el pan\n",
      "agregar jamon\n",
      "agregar queso\n",
      "cerrar pan\n",
      "Listo!\n",
      "abrir el pan\n",
      "agregar jamon\n",
      "agregar queso\n",
      "cerrar pan\n",
      "Listo!\n",
      "abrir el pan\n",
      "agregar jamon\n",
      "agregar queso\n",
      "cerrar pan\n",
      "Listo!\n"
     ]
    }
   ],
   "source": [
    "# Ejemplo de KeyWords / funciones \n",
    "def preparar_sandwich():\n",
    "        print(\"abrir el pan\")\n",
    "        print(\"agregar jamon\")\n",
    "        print(\"agregar queso\")\n",
    "        print(\"cerrar pan\")\n",
    "        print(\"Listo!\")\n",
    "\n",
    "preparar_sandwich()\n",
    "preparar_sandwich()\n",
    "preparar_sandwich()"
   ]
  },
  {
   "cell_type": "markdown",
   "id": "329b2b64-808e-4e45-9a75-7231a5e428df",
   "metadata": {
    "jp-MarkdownHeadingCollapsed": true
   },
   "source": [
    "## Alcance o Scope:\n",
    "A scope defines the visibility of a name within a block.\n",
    "\n",
    "- Global: un alcance disponible para todo el programa. Se puede utilizar en cualquier momento y cualquier lugar del programa.\n",
    "- Local: esta disponible unicamente dentro de un bloque de codigo o una función."
   ]
  },
  {
   "cell_type": "code",
   "execution_count": null,
   "id": "0570a8ab",
   "metadata": {},
   "outputs": [
    {
     "name": "stdout",
     "output_type": "stream",
     "text": [
      "estoy cocinando carne\n",
      "estoy cocinando carne\n"
     ]
    }
   ],
   "source": [
    "# Ejemplo de Alcance - variable local (ingrediente)\n",
    "def preparar_comida():\n",
    "    ingrediente = \"carne\"\n",
    "    print(f\"estoy cocinando {ingrediente}\")\n",
    "\n",
    "preparar_comida()\n",
    "\n",
    "ingrediente = \"pollo\"\n",
    "\n",
    "preparar_comida()"
   ]
  }
 ],
 "metadata": {
  "kernelspec": {
   "display_name": "venv",
   "language": "python",
   "name": "python3"
  },
  "language_info": {
   "codemirror_mode": {
    "name": "ipython",
    "version": 3
   },
   "file_extension": ".py",
   "mimetype": "text/x-python",
   "name": "python",
   "nbconvert_exporter": "python",
   "pygments_lexer": "ipython3",
   "version": "3.10.11"
  }
 },
 "nbformat": 4,
 "nbformat_minor": 5
}
